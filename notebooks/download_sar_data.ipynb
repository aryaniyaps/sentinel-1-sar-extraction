{
 "cells": [
  {
   "cell_type": "markdown",
   "metadata": {},
   "source": [
    "# Sentinel-1 SAR Data Retrieval with Sentinel Hub\n",
    "\n",
    "This notebook demonstrates how to retrieve Sentinel-1 SAR (Synthetic Aperture Radar) data using the Sentinel Hub API. The data is downloaded based on a specified area of interest (AOI) defined in a GeoJSON file.\n",
    "\n",
    "## Step 0: Install dependencies\n"
   ]
  },
  {
   "cell_type": "code",
   "execution_count": 353,
   "metadata": {},
   "outputs": [
    {
     "name": "stdout",
     "output_type": "stream",
     "text": [
      "Requirement already satisfied: geopandas in /home/aryaniyaps/web-projects/sentinel-1-sar-extraction/.venv/lib/python3.12/site-packages (1.0.1)\n",
      "Requirement already satisfied: sentinelhub in /home/aryaniyaps/web-projects/sentinel-1-sar-extraction/.venv/lib/python3.12/site-packages (3.11.1)\n",
      "Requirement already satisfied: python-dotenv in /home/aryaniyaps/web-projects/sentinel-1-sar-extraction/.venv/lib/python3.12/site-packages (1.0.1)\n",
      "Requirement already satisfied: matplotlib in /home/aryaniyaps/web-projects/sentinel-1-sar-extraction/.venv/lib/python3.12/site-packages (3.9.2)\n",
      "Requirement already satisfied: numpy in /home/aryaniyaps/web-projects/sentinel-1-sar-extraction/.venv/lib/python3.12/site-packages (2.1.1)\n",
      "Requirement already satisfied: pyogrio>=0.7.2 in /home/aryaniyaps/web-projects/sentinel-1-sar-extraction/.venv/lib/python3.12/site-packages (from geopandas) (0.9.0)\n",
      "Requirement already satisfied: packaging in /home/aryaniyaps/web-projects/sentinel-1-sar-extraction/.venv/lib/python3.12/site-packages (from geopandas) (24.1)\n",
      "Requirement already satisfied: pandas>=1.4.0 in /home/aryaniyaps/web-projects/sentinel-1-sar-extraction/.venv/lib/python3.12/site-packages (from geopandas) (2.2.3)\n",
      "Requirement already satisfied: pyproj>=3.3.0 in /home/aryaniyaps/web-projects/sentinel-1-sar-extraction/.venv/lib/python3.12/site-packages (from geopandas) (3.6.1)\n",
      "Requirement already satisfied: shapely>=2.0.0 in /home/aryaniyaps/web-projects/sentinel-1-sar-extraction/.venv/lib/python3.12/site-packages (from geopandas) (2.0.6)\n",
      "Requirement already satisfied: aenum>=2.1.4 in /home/aryaniyaps/web-projects/sentinel-1-sar-extraction/.venv/lib/python3.12/site-packages (from sentinelhub) (3.1.15)\n",
      "Requirement already satisfied: click in /home/aryaniyaps/web-projects/sentinel-1-sar-extraction/.venv/lib/python3.12/site-packages (from sentinelhub) (8.1.7)\n",
      "Requirement already satisfied: dataclasses-json in /home/aryaniyaps/web-projects/sentinel-1-sar-extraction/.venv/lib/python3.12/site-packages (from sentinelhub) (0.6.7)\n",
      "Requirement already satisfied: oauthlib in /home/aryaniyaps/web-projects/sentinel-1-sar-extraction/.venv/lib/python3.12/site-packages (from sentinelhub) (3.2.2)\n",
      "Requirement already satisfied: pillow>=9.2.0 in /home/aryaniyaps/web-projects/sentinel-1-sar-extraction/.venv/lib/python3.12/site-packages (from sentinelhub) (10.4.0)\n",
      "Requirement already satisfied: python-dateutil in /home/aryaniyaps/web-projects/sentinel-1-sar-extraction/.venv/lib/python3.12/site-packages (from sentinelhub) (2.9.0.post0)\n",
      "Requirement already satisfied: requests-oauthlib>=1.0.0 in /home/aryaniyaps/web-projects/sentinel-1-sar-extraction/.venv/lib/python3.12/site-packages (from sentinelhub) (2.0.0)\n",
      "Requirement already satisfied: requests>=2.27.0 in /home/aryaniyaps/web-projects/sentinel-1-sar-extraction/.venv/lib/python3.12/site-packages (from sentinelhub) (2.32.3)\n",
      "Requirement already satisfied: tifffile>=2020.9.30 in /home/aryaniyaps/web-projects/sentinel-1-sar-extraction/.venv/lib/python3.12/site-packages (from sentinelhub) (2024.9.20)\n",
      "Requirement already satisfied: tomli in /home/aryaniyaps/web-projects/sentinel-1-sar-extraction/.venv/lib/python3.12/site-packages (from sentinelhub) (2.0.1)\n",
      "Requirement already satisfied: tomli-w in /home/aryaniyaps/web-projects/sentinel-1-sar-extraction/.venv/lib/python3.12/site-packages (from sentinelhub) (1.0.0)\n",
      "Requirement already satisfied: tqdm in /home/aryaniyaps/web-projects/sentinel-1-sar-extraction/.venv/lib/python3.12/site-packages (from sentinelhub) (4.66.5)\n",
      "Requirement already satisfied: typing-extensions>=4.5.0 in /home/aryaniyaps/web-projects/sentinel-1-sar-extraction/.venv/lib/python3.12/site-packages (from sentinelhub) (4.12.2)\n",
      "Requirement already satisfied: utm in /home/aryaniyaps/web-projects/sentinel-1-sar-extraction/.venv/lib/python3.12/site-packages (from sentinelhub) (0.7.0)\n",
      "Requirement already satisfied: contourpy>=1.0.1 in /home/aryaniyaps/web-projects/sentinel-1-sar-extraction/.venv/lib/python3.12/site-packages (from matplotlib) (1.3.0)\n",
      "Requirement already satisfied: cycler>=0.10 in /home/aryaniyaps/web-projects/sentinel-1-sar-extraction/.venv/lib/python3.12/site-packages (from matplotlib) (0.12.1)\n",
      "Requirement already satisfied: fonttools>=4.22.0 in /home/aryaniyaps/web-projects/sentinel-1-sar-extraction/.venv/lib/python3.12/site-packages (from matplotlib) (4.54.1)\n",
      "Requirement already satisfied: kiwisolver>=1.3.1 in /home/aryaniyaps/web-projects/sentinel-1-sar-extraction/.venv/lib/python3.12/site-packages (from matplotlib) (1.4.7)\n",
      "Requirement already satisfied: pyparsing>=2.3.1 in /home/aryaniyaps/web-projects/sentinel-1-sar-extraction/.venv/lib/python3.12/site-packages (from matplotlib) (3.1.4)\n",
      "Requirement already satisfied: pytz>=2020.1 in /home/aryaniyaps/web-projects/sentinel-1-sar-extraction/.venv/lib/python3.12/site-packages (from pandas>=1.4.0->geopandas) (2024.2)\n",
      "Requirement already satisfied: tzdata>=2022.7 in /home/aryaniyaps/web-projects/sentinel-1-sar-extraction/.venv/lib/python3.12/site-packages (from pandas>=1.4.0->geopandas) (2024.2)\n",
      "Requirement already satisfied: certifi in /home/aryaniyaps/web-projects/sentinel-1-sar-extraction/.venv/lib/python3.12/site-packages (from pyogrio>=0.7.2->geopandas) (2024.8.30)\n",
      "Requirement already satisfied: six>=1.5 in /home/aryaniyaps/web-projects/sentinel-1-sar-extraction/.venv/lib/python3.12/site-packages (from python-dateutil->sentinelhub) (1.16.0)\n",
      "Requirement already satisfied: charset-normalizer<4,>=2 in /home/aryaniyaps/web-projects/sentinel-1-sar-extraction/.venv/lib/python3.12/site-packages (from requests>=2.27.0->sentinelhub) (3.3.2)\n",
      "Requirement already satisfied: idna<4,>=2.5 in /home/aryaniyaps/web-projects/sentinel-1-sar-extraction/.venv/lib/python3.12/site-packages (from requests>=2.27.0->sentinelhub) (3.10)\n",
      "Requirement already satisfied: urllib3<3,>=1.21.1 in /home/aryaniyaps/web-projects/sentinel-1-sar-extraction/.venv/lib/python3.12/site-packages (from requests>=2.27.0->sentinelhub) (2.2.3)\n",
      "Requirement already satisfied: marshmallow<4.0.0,>=3.18.0 in /home/aryaniyaps/web-projects/sentinel-1-sar-extraction/.venv/lib/python3.12/site-packages (from dataclasses-json->sentinelhub) (3.22.0)\n",
      "Requirement already satisfied: typing-inspect<1,>=0.4.0 in /home/aryaniyaps/web-projects/sentinel-1-sar-extraction/.venv/lib/python3.12/site-packages (from dataclasses-json->sentinelhub) (0.9.0)\n",
      "Requirement already satisfied: mypy-extensions>=0.3.0 in /home/aryaniyaps/web-projects/sentinel-1-sar-extraction/.venv/lib/python3.12/site-packages (from typing-inspect<1,>=0.4.0->dataclasses-json->sentinelhub) (1.0.0)\n",
      "Note: you may need to restart the kernel to use updated packages.\n"
     ]
    }
   ],
   "source": [
    "%pip install geopandas sentinelhub python-dotenv matplotlib numpy"
   ]
  },
  {
   "cell_type": "markdown",
   "metadata": {},
   "source": [
    "## Step 1: Import Necessary Libraries"
   ]
  },
  {
   "cell_type": "code",
   "execution_count": 354,
   "metadata": {},
   "outputs": [],
   "source": [
    "# Import necessary libraries\n",
    "\n",
    "import geopandas as gpd\n",
    "from sentinelhub import (\n",
    "    SentinelHubDownloadClient,\n",
    "    CRS,\n",
    "    BBox,\n",
    "    DataCollection,\n",
    "    MimeType,\n",
    "    MosaickingOrder,\n",
    "    SentinelHubRequest,\n",
    "    SHConfig,\n",
    "    bbox_to_dimensions,\n",
    ")\n",
    "import os\n",
    "import matplotlib.pyplot as plt\n",
    "from dotenv import load_dotenv\n",
    "import numpy as np"
   ]
  },
  {
   "cell_type": "markdown",
   "metadata": {},
   "source": [
    "## Step 2: Load Environment Variables"
   ]
  },
  {
   "cell_type": "code",
   "execution_count": 355,
   "metadata": {},
   "outputs": [
    {
     "data": {
      "text/plain": [
       "True"
      ]
     },
     "execution_count": 355,
     "metadata": {},
     "output_type": "execute_result"
    }
   ],
   "source": [
    "load_dotenv()"
   ]
  },
  {
   "cell_type": "markdown",
   "metadata": {},
   "source": [
    "## Step 3: Load Sentinel Hub Credentials\n",
    "\n",
    "In this step, we configure the Sentinel Hub API credentials needed to authenticate requests.\n"
   ]
  },
  {
   "cell_type": "code",
   "execution_count": 356,
   "metadata": {},
   "outputs": [],
   "source": [
    "# Load your Sentinel Hub credentials\n",
    "config = SHConfig(\n",
    "    sh_base_url=\"https://sh.dataspace.copernicus.eu\",\n",
    "    sh_token_url=\"https://identity.dataspace.copernicus.eu/auth/realms/CDSE/protocol/openid-connect/token\",\n",
    "    sh_client_id=os.getenv(\"sentinel_hub_client_id\"),\n",
    "    sh_client_secret=os.getenv(\"sentinel_hub_client_secret\"),\n",
    ")"
   ]
  },
  {
   "cell_type": "markdown",
   "metadata": {},
   "source": [
    "## Step 4: Load the GeoJSON Area of Interest (AOI)\n",
    "\n",
    "Here, we load the AOI from a GeoJSON file and extract its boundaries.\n"
   ]
  },
  {
   "cell_type": "code",
   "execution_count": 357,
   "metadata": {},
   "outputs": [],
   "source": [
    "# Load the GeoJSON area of interest (AOI)\n",
    "aoi = gpd.read_file(\"extraction_areas/mumbai_offshore_subset.geojson\")\n",
    "\n",
    "# Convert the AOI to a bounding box (min_x, min_y, max_x, max_y format)\n",
    "min_x, min_y, max_x, max_y = aoi.total_bounds\n",
    "bbox = BBox(bbox=[min_x, min_y, max_x, max_y], crs=CRS.WGS84)  # type:ignore[arg-type]\n"
   ]
  },
  {
   "cell_type": "markdown",
   "metadata": {},
   "source": [
    "## Step 5: Define Bounding Box Dimensions\n",
    "\n",
    "In this step, we define the size of the bounding box area in pixels based on the desired resolution.\n"
   ]
  },
  {
   "cell_type": "code",
   "execution_count": 358,
   "metadata": {},
   "outputs": [
    {
     "name": "stdout",
     "output_type": "stream",
     "text": [
      "Image shape at 0.75 m resolution: (2405, 1463) pixels\n"
     ]
    }
   ],
   "source": [
    "resolution = 0.75\n",
    "# Define the size of the bounding box area (in pixels)\n",
    "bbox_size = bbox_to_dimensions(bbox, resolution=resolution)  # Adjust resolution as needed\n",
    "print(f\"Image shape at {resolution} m resolution: {bbox_size} pixels\")"
   ]
  },
  {
   "cell_type": "markdown",
   "metadata": {},
   "source": [
    "## Step 6: Create Sentinel Hub Requests for SAR Data\n",
    "\n",
    "Here, we configure the request for Sentinel-1 SAR data with the specified evaluation script."
   ]
  },
  {
   "cell_type": "code",
   "execution_count": 359,
   "metadata": {},
   "outputs": [],
   "source": [
    "from datetime import datetime, timedelta\n",
    "\n",
    "start_date = datetime(2018, 9, 1)\n",
    "end_date = datetime(2019, 9, 30)\n",
    "delta = timedelta(days=7)  # Change this to set your desired interval\n",
    "\n",
    "current_date = start_date"
   ]
  },
  {
   "cell_type": "code",
   "execution_count": 360,
   "metadata": {},
   "outputs": [],
   "source": [
    "all_requests = []\n",
    "\n",
    "while current_date <= end_date:\n",
    "    request = SentinelHubRequest(\n",
    "        data_folder=\"./downloads\",\n",
    "        evalscript=\"\"\"\n",
    "        //VERSION=3\n",
    "        function setup() {\n",
    "          return {\n",
    "            input: [\"VV\"],\n",
    "            output: { bands: 1 }\n",
    "          };\n",
    "        }\n",
    "\n",
    "        function evaluatePixel(sample) {\n",
    "          return [sample.VV];\n",
    "        }\n",
    "        \"\"\",\n",
    "        input_data=[\n",
    "            SentinelHubRequest.input_data(\n",
    "                data_collection=DataCollection.SENTINEL1_IW.define_from(\n",
    "                    \"s1iw\", service_url=config.sh_base_url\n",
    "                ),\n",
    "                time_interval=(current_date.strftime('%Y-%m-%d'), current_date.strftime('%Y-%m-%d')),\n",
    "            )\n",
    "        ],\n",
    "        bbox=bbox,\n",
    "        size=bbox_size,\n",
    "        responses=[SentinelHubRequest.output_response(\"default\", MimeType.TIFF)],\n",
    "        config=config,\n",
    "    )\n",
    "    all_requests.append((request, current_date))\n",
    "    \n",
    "    current_date += delta  # Move to the next date\n"
   ]
  },
  {
   "cell_type": "code",
   "execution_count": 375,
   "metadata": {},
   "outputs": [],
   "source": [
    "data = SentinelHubDownloadClient(config=config).download([request.download_list[0] for (request, current_date) in all_requests], max_threads=5)"
   ]
  },
  {
   "cell_type": "markdown",
   "metadata": {},
   "source": [
    "## Step 7: Visualize Downloaded Data"
   ]
  },
  {
   "cell_type": "code",
   "execution_count": 376,
   "metadata": {},
   "outputs": [],
   "source": [
    "# Assuming data contains the images retrieved\n",
    "num_images = len(data)  # Number of images from requests\n",
    "\n",
    "# Define number of columns for the subplot\n",
    "num_cols = 3  # Set the number of columns\n",
    "num_rows = int(np.ceil(num_images / num_cols))  # Calculate number of rows\n",
    "\n",
    "fig, axes = plt.subplots(num_rows, num_cols, figsize=(12, num_rows * 2), constrained_layout=True)  # Use constrained layout\n",
    "\n",
    "# Flatten the axes array for easier indexing\n",
    "axes = axes.flatten()\n",
    "\n",
    "for i in range(num_images):\n",
    "    axes[i].imshow(data[i], cmap='gray', vmin=0, vmax=255)\n",
    "    axes[i].set_title(f'{all_requests[i][1]} | Week {i + 1}/{num_images}')  # Title for each subplot\n",
    "    axes[i].axis('off')  # Turn off the axis\n",
    "\n",
    "# Turn off any unused subplots\n",
    "for j in range(num_images, len(axes)):\n",
    "    axes[j].axis('off')  # Hide unused subplots\n",
    "\n",
    "# Create a shared colorbar\n",
    "# Adjusting the size and location of the colorbar\n",
    "cbar = plt.colorbar(axes[0].images[0], ax=axes, orientation='vertical', fraction=0.02, pad=0.04, shrink=0.8)\n",
    "cbar.set_label('Intensity')\n",
    "\n",
    "# Set the main title\n",
    "plt.suptitle('Sentinel-1 SAR Data Visualization (C-band, VV polarization)', fontsize=16)\n",
    "\n",
    "# Use tight layout to ensure no overlap\n",
    "plt.show()"
   ]
  }
 ],
 "metadata": {
  "kernelspec": {
   "display_name": ".venv",
   "language": "python",
   "name": "python3"
  },
  "language_info": {
   "codemirror_mode": {
    "name": "ipython",
    "version": 3
   },
   "file_extension": ".py",
   "mimetype": "text/x-python",
   "name": "python",
   "nbconvert_exporter": "python",
   "pygments_lexer": "ipython3",
   "version": "3.12.4"
  }
 },
 "nbformat": 4,
 "nbformat_minor": 2
}

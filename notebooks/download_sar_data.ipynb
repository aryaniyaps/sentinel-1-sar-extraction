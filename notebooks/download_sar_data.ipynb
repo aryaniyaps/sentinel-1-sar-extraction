{
 "cells": [
  {
   "cell_type": "markdown",
   "metadata": {},
   "source": [
    "# Sentinel-1 SAR Data Retrieval with Sentinel Hub\n",
    "\n",
    "This notebook demonstrates how to retrieve Sentinel-1 SAR (Synthetic Aperture Radar) data using the Sentinel Hub API. The data is downloaded based on a specified area of interest (AOI) defined in a GeoJSON file.\n",
    "\n",
    "## Step 0: Install dependencies\n"
   ]
  },
  {
   "cell_type": "code",
   "execution_count": null,
   "metadata": {},
   "outputs": [],
   "source": [
    "%pip install geopandas sentinelhub"
   ]
  },
  {
   "cell_type": "markdown",
   "metadata": {},
   "source": [
    "## Step 1: Import Necessary Libraries"
   ]
  },
  {
   "cell_type": "code",
   "execution_count": null,
   "metadata": {},
   "outputs": [],
   "source": [
    "# Import necessary libraries\n",
    "import geopandas as gpd\n",
    "from sentinelhub import (\n",
    "    CRS,\n",
    "    BBox,\n",
    "    DataCollection,\n",
    "    MimeType,\n",
    "    MosaickingOrder,\n",
    "    SentinelHubRequest,\n",
    "    SHConfig,\n",
    "    bbox_to_dimensions,\n",
    ")\n",
    "from config import settings"
   ]
  },
  {
   "cell_type": "markdown",
   "metadata": {},
   "source": [
    "## Step 2: Load Sentinel Hub Credentials\n",
    "\n",
    "In this step, we configure the Sentinel Hub API credentials needed to authenticate requests.\n"
   ]
  },
  {
   "cell_type": "code",
   "execution_count": null,
   "metadata": {},
   "outputs": [
    {
     "ename": "",
     "evalue": "",
     "output_type": "error",
     "traceback": [
      "\u001b[1;31mRunning cells with '.venv (Python 3.12.4)' requires the ipykernel package.\n",
      "\u001b[1;31mRun the following command to install 'ipykernel' into the Python environment. \n",
      "\u001b[1;31mCommand: '/home/aryaniyaps/web-projects/sentinel-1-sar-extraction/.venv/bin/python -m pip install ipykernel -U --force-reinstall'"
     ]
    }
   ],
   "source": [
    "# Load your Sentinel Hub credentials\n",
    "config = SHConfig(\n",
    "    sh_base_url=\"https://sh.dataspace.copernicus.eu\",\n",
    "    sh_token_url=\"https://identity.dataspace.copernicus.eu/auth/realms/CDSE/protocol/openid-connect/token\",\n",
    "    sh_client_id=settings.sentinel_hub_client_id,\n",
    "    sh_client_secret=settings.sentinel_hub_client_secret.get_secret_value(),\n",
    ")"
   ]
  },
  {
   "cell_type": "markdown",
   "metadata": {},
   "source": [
    "## Step 3: Load the GeoJSON Area of Interest (AOI)\n",
    "\n",
    "Here, we load the AOI from a GeoJSON file and extract its boundaries.\n"
   ]
  },
  {
   "cell_type": "code",
   "execution_count": null,
   "metadata": {},
   "outputs": [
    {
     "ename": "",
     "evalue": "",
     "output_type": "error",
     "traceback": [
      "\u001b[1;31mRunning cells with '.venv (Python 3.12.4)' requires the ipykernel package.\n",
      "\u001b[1;31mRun the following command to install 'ipykernel' into the Python environment. \n",
      "\u001b[1;31mCommand: '/home/aryaniyaps/web-projects/sentinel-1-sar-extraction/.venv/bin/python -m pip install ipykernel -U --force-reinstall'"
     ]
    }
   ],
   "source": [
    "# Load the GeoJSON area of interest (AOI)\n",
    "aoi = gpd.read_file(\"extraction_areas/mumbai_offshore.geojson\")\n",
    "\n",
    "# Convert the AOI to a bounding box (min_x, min_y, max_x, max_y format)\n",
    "min_x, min_y, max_x, max_y = aoi.total_bounds\n",
    "bbox = BBox(bbox=[min_x, min_y, max_x, max_y], crs=CRS.WGS84)  # type:ignore[arg-type]\n"
   ]
  },
  {
   "cell_type": "markdown",
   "metadata": {},
   "source": [
    "## Step 4: Define Bounding Box Dimensions\n",
    "\n",
    "In this step, we define the size of the bounding box area in pixels based on the desired resolution.\n"
   ]
  },
  {
   "cell_type": "code",
   "execution_count": null,
   "metadata": {},
   "outputs": [
    {
     "ename": "",
     "evalue": "",
     "output_type": "error",
     "traceback": [
      "\u001b[1;31mRunning cells with '.venv (Python 3.12.4)' requires the ipykernel package.\n",
      "\u001b[1;31mRun the following command to install 'ipykernel' into the Python environment. \n",
      "\u001b[1;31mCommand: '/home/aryaniyaps/web-projects/sentinel-1-sar-extraction/.venv/bin/python -m pip install ipykernel -U --force-reinstall'"
     ]
    }
   ],
   "source": [
    "# Define the size of the bounding box area (in pixels)\n",
    "bbox_size = bbox_to_dimensions(bbox, resolution=30)  # Adjust resolution as needed\n",
    "print(f\"BBox dimensions: {bbox_size}\")"
   ]
  },
  {
   "cell_type": "markdown",
   "metadata": {},
   "source": [
    "## Step 5: Create a Sentinel Hub Request for SAR Data\n",
    "\n",
    "Here, we configure the request for Sentinel-1 SAR data with the specified evaluation script."
   ]
  },
  {
   "cell_type": "code",
   "execution_count": null,
   "metadata": {},
   "outputs": [],
   "source": [
    "# Create a request for Sentinel-1 SAR data (VV polarization)\n",
    "request = SentinelHubRequest(\n",
    "    data_folder=\"./downloads\",  # Set your download directory\n",
    "    evalscript=\"\"\"\n",
    "//VERSION=3\n",
    "function setup() {\n",
    "  return {\n",
    "    input: [\"VV\"],\n",
    "    output: { bands: 1 }\n",
    "  };\n",
    "}\n",
    "\n",
    "function evaluatePixel(sample) {\n",
    "  return [sample.VV];\n",
    "}\n",
    "\"\"\",\n",
    "    input_data=[\n",
    "        SentinelHubRequest.input_data(\n",
    "            data_collection=DataCollection.SENTINEL1_IW.define_from(\n",
    "                \"s1iw\", service_url=config.sh_base_url\n",
    "            ),\n",
    "            time_interval=(\"2018-09-01\", \"2023-09-30\"),  # Date range\n",
    "            mosaicking_order=MosaickingOrder.MOST_RECENT,  # Mosaicking order by most recent images\n",
    "        )\n",
    "    ],\n",
    "    bbox=bbox,\n",
    "    size=bbox_size,\n",
    "    responses=[SentinelHubRequest.output_response(\"default\", MimeType.TIFF)],\n",
    "    config=config,\n",
    ")"
   ]
  },
  {
   "cell_type": "markdown",
   "metadata": {},
   "source": [
    "## Step 6: Execute the Request and Download Products\n",
    "\n",
    "Finally, we execute the request and download the SAR images. The downloaded images will be saved in the specified directory.\n"
   ]
  },
  {
   "cell_type": "code",
   "execution_count": null,
   "metadata": {},
   "outputs": [],
   "source": [
    "# Execute the request and download the products\n",
    "data = request.get_data(save_data=True, show_progress=True)\n",
    "print(f\"Downloaded {len(data)} images.\")"
   ]
  }
 ],
 "metadata": {
  "kernelspec": {
   "display_name": ".venv",
   "language": "python",
   "name": "python3"
  },
  "language_info": {
   "name": "python",
   "version": "3.12.4"
  }
 },
 "nbformat": 4,
 "nbformat_minor": 2
}
